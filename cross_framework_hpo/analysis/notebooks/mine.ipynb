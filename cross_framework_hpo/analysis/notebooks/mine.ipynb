{
 "cells": [
  {
   "cell_type": "code",
   "execution_count": null,
   "metadata": {},
   "outputs": [],
   "source": [
    "!pip install /Users/mzvyagin/mine-pytorch/."
   ]
  },
  {
   "cell_type": "code",
   "execution_count": 1,
   "metadata": {},
   "outputs": [
    {
     "name": "stdout",
     "output_type": "stream",
     "text": [
      "Device: cpu\n"
     ]
    },
    {
     "name": "stderr",
     "output_type": "stream",
     "text": [
      "/Users/mzvyagin/.pyenv/versions/3.8.5/lib/python3.8/site-packages/pytorch_lightning/core/decorators.py:13: UserWarning: data_loader decorator deprecated in 0.7.0. Will remove 0.9.0\n",
      "  warnings.warn(w)\n"
     ]
    }
   ],
   "source": [
    "from mine.models.mine import Mine"
   ]
  },
  {
   "cell_type": "code",
   "execution_count": 2,
   "metadata": {},
   "outputs": [],
   "source": [
    "from torch import nn"
   ]
  },
  {
   "cell_type": "code",
   "execution_count": 3,
   "metadata": {},
   "outputs": [],
   "source": [
    "x_dim = 2\n",
    "y_dim = 1"
   ]
  },
  {
   "cell_type": "code",
   "execution_count": 4,
   "metadata": {},
   "outputs": [],
   "source": [
    "statistics_network = nn.Sequential(\n",
    "    nn.Linear(x_dim + y_dim, 100),\n",
    "    nn.ReLU(),\n",
    "    nn.Linear(100, 100),\n",
    "    nn.ReLU(),\n",
    "    nn.Linear(100, 1)\n",
    ")"
   ]
  },
  {
   "cell_type": "code",
   "execution_count": 5,
   "metadata": {},
   "outputs": [],
   "source": [
    "mine = Mine(\n",
    "    T = statistics_network,\n",
    "    loss = 'mine', #mine_biased, fdiv\n",
    "    method = 'concat'\n",
    ")"
   ]
  },
  {
   "cell_type": "code",
   "execution_count": 6,
   "metadata": {},
   "outputs": [],
   "source": [
    "import pandas as pd\n",
    "import numpy as np"
   ]
  },
  {
   "cell_type": "code",
   "execution_count": 186,
   "metadata": {},
   "outputs": [],
   "source": [
    "vgg_df = pd.read_csv('../wandb_results/vgg_cifar10_wandb_export.csv')"
   ]
  },
  {
   "cell_type": "code",
   "execution_count": 187,
   "metadata": {},
   "outputs": [],
   "source": [
    "resnet_df = pd.read_csv('../wandb_results/resnet_cifar10_wandb_export.csv')"
   ]
  },
  {
   "cell_type": "code",
   "execution_count": 188,
   "metadata": {},
   "outputs": [],
   "source": [
    "dense_df = pd.read_csv('../wandb_results/densenet_cifar10_wandb_export.csv')"
   ]
  },
  {
   "cell_type": "code",
   "execution_count": 19,
   "metadata": {},
   "outputs": [],
   "source": [
    "X = np.array([vgg_df['learning_rate'], vgg_df['batch_size']]).reshape(400, 2)"
   ]
  },
  {
   "cell_type": "code",
   "execution_count": 13,
   "metadata": {},
   "outputs": [
    {
     "data": {
      "text/plain": [
       "2"
      ]
     },
     "execution_count": 13,
     "metadata": {},
     "output_type": "execute_result"
    }
   ],
   "source": [
    "len(X)"
   ]
  },
  {
   "cell_type": "code",
   "execution_count": 17,
   "metadata": {},
   "outputs": [],
   "source": [
    "Y = np.array(vgg_df['accuracy_diff'])"
   ]
  },
  {
   "cell_type": "code",
   "execution_count": null,
   "metadata": {},
   "outputs": [],
   "source": [
    "mi = mine.optimize(X, Y, iters = 100, batch_size=16)"
   ]
  },
  {
   "cell_type": "code",
   "execution_count": 66,
   "metadata": {},
   "outputs": [],
   "source": [
    "from npeet.entropy_estimators import mi as eemi\n",
    "from itertools import combinations, permutations"
   ]
  },
  {
   "cell_type": "code",
   "execution_count": 36,
   "metadata": {},
   "outputs": [],
   "source": [
    "def calculate_univariate_mi(dataframe):\n",
    "    features = ['epochs', 'batch_size', 'learning_rate', 'adam_epsilon']\n",
    "    results_dict = {}\n",
    "    for i in features:\n",
    "        X = np.array(dataframe[i])\n",
    "        Y = np.array(dataframe['accuracy_diff'])\n",
    "        res = eemi(X, Y)\n",
    "        results_dict[i] = res\n",
    "    norm_max = max(results_dict.values())\n",
    "    for k in results_dict:\n",
    "        results_dict[k] /= norm_max\n",
    "    return results_dict"
   ]
  },
  {
   "cell_type": "code",
   "execution_count": 37,
   "metadata": {},
   "outputs": [
    {
     "data": {
      "text/plain": [
       "{'epochs': 0.291533092371274,\n",
       " 'batch_size': 0.4999387237019476,\n",
       " 'learning_rate': 0.20861697893634745,\n",
       " 'adam_epsilon': 1.0}"
      ]
     },
     "execution_count": 37,
     "metadata": {},
     "output_type": "execute_result"
    }
   ],
   "source": [
    "calculate_univariate_mi(vgg_df)"
   ]
  },
  {
   "cell_type": "code",
   "execution_count": 67,
   "metadata": {},
   "outputs": [],
   "source": [
    "def calculate_bivariate_mi(dataframe):\n",
    "    features = ['epochs', 'batch_size', 'learning_rate', 'adam_epsilon']\n",
    "    results_dict = {}\n",
    "    for pair in list(combinations(features, 2)):\n",
    "        X = np.array([dataframe[pair[0]], dataframe[pair[1]]]).reshape(400, 2)\n",
    "        Y = np.array(dataframe['accuracy_diff'])\n",
    "        res = eemi(X, Y)\n",
    "        if res < 0:\n",
    "            res = 0\n",
    "        results_dict['{}+{}'.format(pair[0], pair[1])] = res\n",
    "    norm_max = max(results_dict.values())\n",
    "    for k in results_dict:\n",
    "        results_dict[k] /= norm_max\n",
    "    return results_dict"
   ]
  },
  {
   "cell_type": "code",
   "execution_count": null,
   "metadata": {},
   "outputs": [],
   "source": []
  },
  {
   "cell_type": "code",
   "execution_count": 123,
   "metadata": {},
   "outputs": [],
   "source": [
    "vgg_df['epochs'] = (vgg_df['epochs']-min(vgg_df['epochs']))/(max(vgg_df['epochs'])-min(vgg_df['epochs']))"
   ]
  },
  {
   "cell_type": "code",
   "execution_count": 126,
   "metadata": {},
   "outputs": [
    {
     "data": {
      "text/plain": [
       "0.0"
      ]
     },
     "execution_count": 126,
     "metadata": {},
     "output_type": "execute_result"
    }
   ],
   "source": [
    "min(vgg_df['epochs'])"
   ]
  },
  {
   "cell_type": "code",
   "execution_count": 184,
   "metadata": {},
   "outputs": [],
   "source": [
    "def normalize_and_digitize(dataframe):\n",
    "    columns = ['epochs', 'batch_size', 'learning_rate', 'adam_epsilon', 'accuracy_diff']\n",
    "    for i in columns:\n",
    "        # normalize\n",
    "        x = dataframe[i]\n",
    "        x = np.array(x)\n",
    "        x = (x-min(x))/(max(x)-min(x))\n",
    "        # digitize\n",
    "        bins = [0.0, 0.1, 0.3, 0.4, 0.5, 0.6, 0.7, 0.8, 0.9, 1.0]\n",
    "        dataframe[i] = np.digitize(x, bins, right=False)"
   ]
  },
  {
   "cell_type": "code",
   "execution_count": 242,
   "metadata": {},
   "outputs": [],
   "source": [
    "def calculate_mi(dataframe):\n",
    "    features = ['epochs', 'batch_size', 'learning_rate', 'adam_epsilon']\n",
    "    results_dict = {}\n",
    "    for i in features:\n",
    "        trial_list = []\n",
    "        for _ in range(50):\n",
    "            X = np.array(dataframe[i])\n",
    "    #         X = (X-min(X))/(max(X)-min(X))\n",
    "            Y = np.array(dataframe['accuracy_diff'])\n",
    "    #         Y = (Y-min(Y))/(max(Y)-min(Y))\n",
    "            res = eemi(X, Y)\n",
    "            if res < 0:\n",
    "                res = 0\n",
    "            trial_list.append(res)\n",
    "        results_dict[i] = trial_list\n",
    "    for pair in combinations(features, 2):\n",
    "        trial_list = []\n",
    "        for _ in range(50):\n",
    "            x1 = dataframe[pair[0]]\n",
    "    #         x1 = np.array(dataframe[pair[0]])\n",
    "    #         x1 = (x1-min(x1))/(max(x1)-min(x1))\n",
    "    #         x1 = list(x1)\n",
    "            x2 = dataframe[pair[1]]\n",
    "    #         x2 = np.array(dataframe[pair[1]])\n",
    "    #         x2 = (x2-min(x2))/(max(x2)-min(x2))\n",
    "    #         x2 = list(x2)\n",
    "            X = np.array([x1, x2]).reshape(400, 2)\n",
    "            Y = np.array(dataframe['accuracy_diff'])\n",
    "    #         Y = (Y-min(Y))/(max(Y)-min(Y))\n",
    "            res1 = eemi(X, Y)\n",
    "            X2 = np.array([x2, x1]).reshape(400, 2)\n",
    "            res2 = eemi(X2, Y)\n",
    "            res = (res1+res2)/2\n",
    "            if res < 0:\n",
    "                res = 0\n",
    "            trial_list.append(res)\n",
    "        results_dict['{}+{}'.format(pair[0], pair[1])] = trial_list\n",
    "    norm_max = max(results_dict.values())\n",
    "#     for k in results_dict:\n",
    "#         results_dict[k] /= norm_max\n",
    "    return results_dict"
   ]
  },
  {
   "cell_type": "code",
   "execution_count": 190,
   "metadata": {},
   "outputs": [],
   "source": [
    "normalize_and_digitize(vgg_df)"
   ]
  },
  {
   "cell_type": "code",
   "execution_count": 192,
   "metadata": {},
   "outputs": [],
   "source": [
    "normalize_and_digitize(resnet_df)"
   ]
  },
  {
   "cell_type": "code",
   "execution_count": 193,
   "metadata": {},
   "outputs": [],
   "source": [
    "normalize_and_digitize(dense_df)"
   ]
  },
  {
   "cell_type": "code",
   "execution_count": 109,
   "metadata": {},
   "outputs": [],
   "source": [
    "np.random.seed(0)"
   ]
  },
  {
   "cell_type": "code",
   "execution_count": 111,
   "metadata": {},
   "outputs": [],
   "source": [
    "pretty_features = ['E', 'BS', 'LR', 'AE', 'E+BS', 'E+LR', 'E+AE', 'BS+LR', 'BS+AE', 'LR+AE']\n",
    "# pretty_features = ['E', 'BS', 'LR', 'AE', 'E+BS', 'E+LR', 'E+AE', 'BS+E', 'BS+LR', 'BS+AE', 'LR+E', 'LR+BS', 'LR+AE', 'AE+E', 'AE+BS', 'AE+LR']"
   ]
  },
  {
   "cell_type": "code",
   "execution_count": null,
   "metadata": {},
   "outputs": [],
   "source": [
    "calculate_mi(vgg_df)"
   ]
  },
  {
   "cell_type": "code",
   "execution_count": 244,
   "metadata": {},
   "outputs": [],
   "source": [
    "vgg_mi = list(calculate_mi(vgg_df).values())"
   ]
  },
  {
   "cell_type": "code",
   "execution_count": 245,
   "metadata": {},
   "outputs": [],
   "source": [
    "resnet_mi = list(calculate_mi(resnet_df).values())"
   ]
  },
  {
   "cell_type": "code",
   "execution_count": 246,
   "metadata": {},
   "outputs": [],
   "source": [
    "dense_mi = list(calculate_mi(dense_df).values())"
   ]
  },
  {
   "cell_type": "code",
   "execution_count": 142,
   "metadata": {},
   "outputs": [
    {
     "data": {
      "text/plain": [
       "10"
      ]
     },
     "execution_count": 142,
     "metadata": {},
     "output_type": "execute_result"
    }
   ],
   "source": [
    "len(vgg_mi)"
   ]
  },
  {
   "cell_type": "code",
   "execution_count": 262,
   "metadata": {},
   "outputs": [],
   "source": [
    "mi_df = pd.DataFrame(columns=['Compared Parameter', 'MI', 'Model'])"
   ]
  },
  {
   "cell_type": "code",
   "execution_count": 263,
   "metadata": {},
   "outputs": [],
   "source": [
    "for i in range(10):\n",
    "    for j in range(50):\n",
    "        mi_df = mi_df.append({'MI':vgg_mi[i][j], 'Compared Parameter': pretty_features[i], 'Model':'VGG'}, ignore_index=True)\n",
    "        mi_df = mi_df.append({'MI':resnet_mi[i][j], 'Compared Parameter': pretty_features[i], 'Model':'ResNet'}, ignore_index=True)\n",
    "        mi_df = mi_df.append({'MI':dense_mi[i][j], 'Compared Parameter': pretty_features[i], 'Model':'DenseNet'}, ignore_index=True)"
   ]
  },
  {
   "cell_type": "code",
   "execution_count": 249,
   "metadata": {},
   "outputs": [],
   "source": [
    "import seaborn as sns"
   ]
  },
  {
   "cell_type": "code",
   "execution_count": 250,
   "metadata": {},
   "outputs": [],
   "source": [
    "import matplotlib.pyplot as plt"
   ]
  },
  {
   "cell_type": "code",
   "execution_count": 264,
   "metadata": {},
   "outputs": [
    {
     "data": {
      "image/png": "[encoded data removed]",
      "text/plain": [
       "<Figure size 1152x432 with 1 Axes>"
      ]
     },
     "metadata": {
      "needs_background": "light"
     },
     "output_type": "display_data"
    }
   ],
   "source": [
    "ax = sns.barplot(x=\"Compared Parameter\", y=\"MI\", hue=\"Model\", data=mi_df, palette=\"viridis\", ci=\"sd\")\n",
    "plt.ylabel(\"Mutual Information\")\n",
    "fig = plt.gcf()\n",
    "fig.set_size_inches(16, 6)\n",
    "plt.tight_layout()\n",
    "plt.savefig('uni_and_bivariate_mi_ave_perm_normalized_and_digitize_hyperparameters_and_acc_diff_50trials.png', dpi=200)"
   ]
  },
  {
   "cell_type": "code",
   "execution_count": 101,
   "metadata": {},
   "outputs": [],
   "source": [
    "import matplotlib.pyplot as plt\n",
    "\n",
    "SMALL_SIZE = 14\n",
    "MEDIUM_SIZE = 18\n",
    "BIGGER_SIZE = 22\n",
    "\n",
    "plt.rc('font', size=SMALL_SIZE)          # controls default text sizes\n",
    "plt.rc('axes', titlesize=SMALL_SIZE)     # fontsize of the axes title\n",
    "plt.rc('axes', labelsize=MEDIUM_SIZE)    # fontsize of the x and y labels\n",
    "plt.rc('xtick', labelsize=SMALL_SIZE)    # fontsize of the tick labels\n",
    "plt.rc('ytick', labelsize=SMALL_SIZE)    # fontsize of the tick labels\n",
    "plt.rc('legend', fontsize=SMALL_SIZE)    # legend fontsize"
   ]
  },
  {
   "cell_type": "code",
   "execution_count": null,
   "metadata": {},
   "outputs": [],
   "source": []
  }
 ],
 "metadata": {
  "kernelspec": {
   "display_name": "Python 3",
   "language": "python",
   "name": "python3"
  },
  "language_info": {
   "codemirror_mode": {
    "name": "ipython",
    "version": 3
   },
   "file_extension": ".py",
   "mimetype": "text/x-python",
   "name": "python",
   "nbconvert_exporter": "python",
   "pygments_lexer": "ipython3",
   "version": "3.8.5"
  }
 },
 "nbformat": 4,
 "nbformat_minor": 4
}
