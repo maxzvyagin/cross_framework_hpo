{
 "cells": [
  {
   "cell_type": "markdown",
   "metadata": {},
   "source": [
    "## PCA Analysis of Hyperparameters and Network Divergence"
   ]
  },
  {
   "cell_type": "code",
   "execution_count": 494,
   "metadata": {},
   "outputs": [],
   "source": [
    "import pandas as pd"
   ]
  },
  {
   "cell_type": "code",
   "execution_count": 495,
   "metadata": {},
   "outputs": [],
   "source": [
    "import plotly\n",
    "import plotly.graph_objs as go"
   ]
  },
  {
   "cell_type": "markdown",
   "metadata": {},
   "source": [
    "### VGG Architecture"
   ]
  },
  {
   "cell_type": "code",
   "execution_count": 545,
   "metadata": {},
   "outputs": [],
   "source": [
    "vgg_df = pd.read_csv('../wandb_results/vgg_cifar10_wandb_export.csv')"
   ]
  },
  {
   "cell_type": "code",
   "execution_count": 530,
   "metadata": {},
   "outputs": [
    {
     "data": {
      "text/html": [
       "<div>\n",
       "<style scoped>\n",
       "    .dataframe tbody tr th:only-of-type {\n",
       "        vertical-align: middle;\n",
       "    }\n",
       "\n",
       "    .dataframe tbody tr th {\n",
       "        vertical-align: top;\n",
       "    }\n",
       "\n",
       "    .dataframe thead th {\n",
       "        text-align: right;\n",
       "    }\n",
       "</style>\n",
       "<table border=\"1\" class=\"dataframe\">\n",
       "  <thead>\n",
       "    <tr style=\"text-align: right;\">\n",
       "      <th></th>\n",
       "      <th>Name</th>\n",
       "      <th>accuracy_diff</th>\n",
       "      <th>pt_test_acc</th>\n",
       "      <th>tf_test_acc</th>\n",
       "      <th>State</th>\n",
       "      <th>Notes</th>\n",
       "      <th>User</th>\n",
       "      <th>Tags</th>\n",
       "      <th>Created</th>\n",
       "      <th>Runtime</th>\n",
       "      <th>...</th>\n",
       "      <th>iterations_since_restore</th>\n",
       "      <th>pt_average_training_loss</th>\n",
       "      <th>pt_latest_training_loss</th>\n",
       "      <th>tf_training_loss</th>\n",
       "      <th>time_since_restore</th>\n",
       "      <th>time_this_iter_s</th>\n",
       "      <th>time_total_s</th>\n",
       "      <th>timestamp</th>\n",
       "      <th>timesteps_since_restore</th>\n",
       "      <th>training_iteration</th>\n",
       "    </tr>\n",
       "  </thead>\n",
       "  <tbody>\n",
       "    <tr>\n",
       "      <th>0</th>\n",
       "      <td>dual_train_5e67eae2</td>\n",
       "      <td>6.815194e-01</td>\n",
       "      <td>0.099981</td>\n",
       "      <td>0.7815</td>\n",
       "      <td>finished</td>\n",
       "      <td>-</td>\n",
       "      <td>mzvyagin</td>\n",
       "      <td>NaN</td>\n",
       "      <td>2021-08-24T03:50:06.000Z</td>\n",
       "      <td>1095</td>\n",
       "      <td>...</td>\n",
       "      <td>NaN</td>\n",
       "      <td>[2.2262024879455566,2.140955686569214,1.923969...</td>\n",
       "      <td>[2.2262024879455566,2.140955686569214,1.923969...</td>\n",
       "      <td>[2.3022499084472656,2.2962820529937744,2.30336...</td>\n",
       "      <td>NaN</td>\n",
       "      <td>NaN</td>\n",
       "      <td>NaN</td>\n",
       "      <td>NaN</td>\n",
       "      <td>NaN</td>\n",
       "      <td>NaN</td>\n",
       "    </tr>\n",
       "    <tr>\n",
       "      <th>1</th>\n",
       "      <td>dual_train_1295910a</td>\n",
       "      <td>6.561938e-01</td>\n",
       "      <td>0.756194</td>\n",
       "      <td>0.1000</td>\n",
       "      <td>finished</td>\n",
       "      <td>-</td>\n",
       "      <td>mzvyagin</td>\n",
       "      <td>NaN</td>\n",
       "      <td>2021-08-24T04:59:34.000Z</td>\n",
       "      <td>1271</td>\n",
       "      <td>...</td>\n",
       "      <td>NaN</td>\n",
       "      <td>[2.4968199729919434,1.8460111618041992,1.82043...</td>\n",
       "      <td>[2.4968199729919434,1.8460111618041992,1.82043...</td>\n",
       "      <td>[2.3017570972442627,2.3037261962890625,2.30359...</td>\n",
       "      <td>NaN</td>\n",
       "      <td>NaN</td>\n",
       "      <td>NaN</td>\n",
       "      <td>NaN</td>\n",
       "      <td>NaN</td>\n",
       "      <td>NaN</td>\n",
       "    </tr>\n",
       "    <tr>\n",
       "      <th>2</th>\n",
       "      <td>dual_train_27594472</td>\n",
       "      <td>6.532896e-01</td>\n",
       "      <td>0.753290</td>\n",
       "      <td>0.1000</td>\n",
       "      <td>finished</td>\n",
       "      <td>-</td>\n",
       "      <td>mzvyagin</td>\n",
       "      <td>NaN</td>\n",
       "      <td>2021-08-24T03:27:05.000Z</td>\n",
       "      <td>458</td>\n",
       "      <td>...</td>\n",
       "      <td>NaN</td>\n",
       "      <td>[2.200124502182007,2.30287504196167,2.20806741...</td>\n",
       "      <td>[2.200124502182007,2.30287504196167,2.20806741...</td>\n",
       "      <td>[2.3025827407836914,2.295387506484986,2.287919...</td>\n",
       "      <td>NaN</td>\n",
       "      <td>NaN</td>\n",
       "      <td>NaN</td>\n",
       "      <td>NaN</td>\n",
       "      <td>NaN</td>\n",
       "      <td>NaN</td>\n",
       "    </tr>\n",
       "    <tr>\n",
       "      <th>3</th>\n",
       "      <td>dual_train_878cb400</td>\n",
       "      <td>6.471333e-01</td>\n",
       "      <td>0.747133</td>\n",
       "      <td>0.1000</td>\n",
       "      <td>finished</td>\n",
       "      <td>-</td>\n",
       "      <td>mzvyagin</td>\n",
       "      <td>NaN</td>\n",
       "      <td>2021-08-24T01:06:37.000Z</td>\n",
       "      <td>789</td>\n",
       "      <td>...</td>\n",
       "      <td>NaN</td>\n",
       "      <td>[2.3025057315826416,2.2905972003936768,2.08488...</td>\n",
       "      <td>[2.3025057315826416,2.2905972003936768,2.08488...</td>\n",
       "      <td>[2.302562475204468,2.3024942874908447,2.302377...</td>\n",
       "      <td>NaN</td>\n",
       "      <td>NaN</td>\n",
       "      <td>NaN</td>\n",
       "      <td>NaN</td>\n",
       "      <td>NaN</td>\n",
       "      <td>NaN</td>\n",
       "    </tr>\n",
       "    <tr>\n",
       "      <th>4</th>\n",
       "      <td>dual_train_11829286</td>\n",
       "      <td>6.318243e-01</td>\n",
       "      <td>0.731824</td>\n",
       "      <td>0.1000</td>\n",
       "      <td>finished</td>\n",
       "      <td>-</td>\n",
       "      <td>mzvyagin</td>\n",
       "      <td>NaN</td>\n",
       "      <td>2021-08-24T02:00:35.000Z</td>\n",
       "      <td>456</td>\n",
       "      <td>...</td>\n",
       "      <td>NaN</td>\n",
       "      <td>[2.30769681930542,2.30904483795166,2.096481084...</td>\n",
       "      <td>[2.30769681930542,2.30904483795166,2.096481084...</td>\n",
       "      <td>[2.302609920501709,2.2870705127716064,2.271937...</td>\n",
       "      <td>NaN</td>\n",
       "      <td>NaN</td>\n",
       "      <td>NaN</td>\n",
       "      <td>NaN</td>\n",
       "      <td>NaN</td>\n",
       "      <td>NaN</td>\n",
       "    </tr>\n",
       "    <tr>\n",
       "      <th>...</th>\n",
       "      <td>...</td>\n",
       "      <td>...</td>\n",
       "      <td>...</td>\n",
       "      <td>...</td>\n",
       "      <td>...</td>\n",
       "      <td>...</td>\n",
       "      <td>...</td>\n",
       "      <td>...</td>\n",
       "      <td>...</td>\n",
       "      <td>...</td>\n",
       "      <td>...</td>\n",
       "      <td>...</td>\n",
       "      <td>...</td>\n",
       "      <td>...</td>\n",
       "      <td>...</td>\n",
       "      <td>...</td>\n",
       "      <td>...</td>\n",
       "      <td>...</td>\n",
       "      <td>...</td>\n",
       "      <td>...</td>\n",
       "      <td>...</td>\n",
       "    </tr>\n",
       "    <tr>\n",
       "      <th>395</th>\n",
       "      <td>dual_train_8e8ce4c6</td>\n",
       "      <td>4.172325e-10</td>\n",
       "      <td>0.100000</td>\n",
       "      <td>0.1000</td>\n",
       "      <td>finished</td>\n",
       "      <td>-</td>\n",
       "      <td>mzvyagin</td>\n",
       "      <td>NaN</td>\n",
       "      <td>2021-08-24T06:07:28.000Z</td>\n",
       "      <td>2214</td>\n",
       "      <td>...</td>\n",
       "      <td>NaN</td>\n",
       "      <td>[2.554588794708252,2.588235855102539,2.6147625...</td>\n",
       "      <td>[2.554588794708252,2.588235855102539,2.6147625...</td>\n",
       "      <td>[2.3022260665893555,2.304032325744629,2.303966...</td>\n",
       "      <td>NaN</td>\n",
       "      <td>NaN</td>\n",
       "      <td>NaN</td>\n",
       "      <td>NaN</td>\n",
       "      <td>NaN</td>\n",
       "      <td>NaN</td>\n",
       "    </tr>\n",
       "    <tr>\n",
       "      <th>396</th>\n",
       "      <td>dual_train_d7cca598</td>\n",
       "      <td>4.172325e-10</td>\n",
       "      <td>0.100000</td>\n",
       "      <td>0.1000</td>\n",
       "      <td>finished</td>\n",
       "      <td>-</td>\n",
       "      <td>mzvyagin</td>\n",
       "      <td>NaN</td>\n",
       "      <td>2021-08-24T01:01:42.000Z</td>\n",
       "      <td>760</td>\n",
       "      <td>...</td>\n",
       "      <td>NaN</td>\n",
       "      <td>[2.375936985015869,2.3762497901916504,2.376238...</td>\n",
       "      <td>[2.375936985015869,2.3762497901916504,2.376238...</td>\n",
       "      <td>[2.308305263519287,2.3087804317474365,2.308783...</td>\n",
       "      <td>NaN</td>\n",
       "      <td>NaN</td>\n",
       "      <td>NaN</td>\n",
       "      <td>NaN</td>\n",
       "      <td>NaN</td>\n",
       "      <td>NaN</td>\n",
       "    </tr>\n",
       "    <tr>\n",
       "      <th>397</th>\n",
       "      <td>dual_train_f3ec2aae</td>\n",
       "      <td>4.172325e-10</td>\n",
       "      <td>0.100000</td>\n",
       "      <td>0.1000</td>\n",
       "      <td>finished</td>\n",
       "      <td>-</td>\n",
       "      <td>mzvyagin</td>\n",
       "      <td>NaN</td>\n",
       "      <td>2021-08-24T07:43:21.000Z</td>\n",
       "      <td>4776</td>\n",
       "      <td>...</td>\n",
       "      <td>NaN</td>\n",
       "      <td>[2.340893268585205,2.337571859359741,2.3374533...</td>\n",
       "      <td>[2.340893268585205,2.337571859359741,2.3374533...</td>\n",
       "      <td>[2.3047940731048584,2.305086374282837,2.305087...</td>\n",
       "      <td>NaN</td>\n",
       "      <td>NaN</td>\n",
       "      <td>NaN</td>\n",
       "      <td>NaN</td>\n",
       "      <td>NaN</td>\n",
       "      <td>NaN</td>\n",
       "    </tr>\n",
       "    <tr>\n",
       "      <th>398</th>\n",
       "      <td>dual_train_d24e215e</td>\n",
       "      <td>NaN</td>\n",
       "      <td>NaN</td>\n",
       "      <td>NaN</td>\n",
       "      <td>finished</td>\n",
       "      <td>-</td>\n",
       "      <td>mzvyagin</td>\n",
       "      <td>NaN</td>\n",
       "      <td>2021-08-23T23:57:08.000Z</td>\n",
       "      <td>28</td>\n",
       "      <td>...</td>\n",
       "      <td>NaN</td>\n",
       "      <td>NaN</td>\n",
       "      <td>NaN</td>\n",
       "      <td>NaN</td>\n",
       "      <td>NaN</td>\n",
       "      <td>NaN</td>\n",
       "      <td>NaN</td>\n",
       "      <td>NaN</td>\n",
       "      <td>NaN</td>\n",
       "      <td>NaN</td>\n",
       "    </tr>\n",
       "    <tr>\n",
       "      <th>399</th>\n",
       "      <td>dual_train_d24f6410</td>\n",
       "      <td>NaN</td>\n",
       "      <td>NaN</td>\n",
       "      <td>NaN</td>\n",
       "      <td>finished</td>\n",
       "      <td>-</td>\n",
       "      <td>mzvyagin</td>\n",
       "      <td>NaN</td>\n",
       "      <td>2021-08-23T23:57:08.000Z</td>\n",
       "      <td>27</td>\n",
       "      <td>...</td>\n",
       "      <td>NaN</td>\n",
       "      <td>NaN</td>\n",
       "      <td>NaN</td>\n",
       "      <td>NaN</td>\n",
       "      <td>NaN</td>\n",
       "      <td>NaN</td>\n",
       "      <td>NaN</td>\n",
       "      <td>NaN</td>\n",
       "      <td>NaN</td>\n",
       "      <td>NaN</td>\n",
       "    </tr>\n",
       "  </tbody>\n",
       "</table>\n",
       "<p>400 rows × 37 columns</p>\n",
       "</div>"
      ],
      "text/plain": [
       "                    Name  accuracy_diff  pt_test_acc  tf_test_acc     State  \\\n",
       "0    dual_train_5e67eae2   6.815194e-01     0.099981       0.7815  finished   \n",
       "1    dual_train_1295910a   6.561938e-01     0.756194       0.1000  finished   \n",
       "2    dual_train_27594472   6.532896e-01     0.753290       0.1000  finished   \n",
       "3    dual_train_878cb400   6.471333e-01     0.747133       0.1000  finished   \n",
       "4    dual_train_11829286   6.318243e-01     0.731824       0.1000  finished   \n",
       "..                   ...            ...          ...          ...       ...   \n",
       "395  dual_train_8e8ce4c6   4.172325e-10     0.100000       0.1000  finished   \n",
       "396  dual_train_d7cca598   4.172325e-10     0.100000       0.1000  finished   \n",
       "397  dual_train_f3ec2aae   4.172325e-10     0.100000       0.1000  finished   \n",
       "398  dual_train_d24e215e            NaN          NaN          NaN  finished   \n",
       "399  dual_train_d24f6410            NaN          NaN          NaN  finished   \n",
       "\n",
       "    Notes      User  Tags                   Created  Runtime  ...  \\\n",
       "0       -  mzvyagin   NaN  2021-08-24T03:50:06.000Z     1095  ...   \n",
       "1       -  mzvyagin   NaN  2021-08-24T04:59:34.000Z     1271  ...   \n",
       "2       -  mzvyagin   NaN  2021-08-24T03:27:05.000Z      458  ...   \n",
       "3       -  mzvyagin   NaN  2021-08-24T01:06:37.000Z      789  ...   \n",
       "4       -  mzvyagin   NaN  2021-08-24T02:00:35.000Z      456  ...   \n",
       "..    ...       ...   ...                       ...      ...  ...   \n",
       "395     -  mzvyagin   NaN  2021-08-24T06:07:28.000Z     2214  ...   \n",
       "396     -  mzvyagin   NaN  2021-08-24T01:01:42.000Z      760  ...   \n",
       "397     -  mzvyagin   NaN  2021-08-24T07:43:21.000Z     4776  ...   \n",
       "398     -  mzvyagin   NaN  2021-08-23T23:57:08.000Z       28  ...   \n",
       "399     -  mzvyagin   NaN  2021-08-23T23:57:08.000Z       27  ...   \n",
       "\n",
       "     iterations_since_restore  \\\n",
       "0                         NaN   \n",
       "1                         NaN   \n",
       "2                         NaN   \n",
       "3                         NaN   \n",
       "4                         NaN   \n",
       "..                        ...   \n",
       "395                       NaN   \n",
       "396                       NaN   \n",
       "397                       NaN   \n",
       "398                       NaN   \n",
       "399                       NaN   \n",
       "\n",
       "                              pt_average_training_loss  \\\n",
       "0    [2.2262024879455566,2.140955686569214,1.923969...   \n",
       "1    [2.4968199729919434,1.8460111618041992,1.82043...   \n",
       "2    [2.200124502182007,2.30287504196167,2.20806741...   \n",
       "3    [2.3025057315826416,2.2905972003936768,2.08488...   \n",
       "4    [2.30769681930542,2.30904483795166,2.096481084...   \n",
       "..                                                 ...   \n",
       "395  [2.554588794708252,2.588235855102539,2.6147625...   \n",
       "396  [2.375936985015869,2.3762497901916504,2.376238...   \n",
       "397  [2.340893268585205,2.337571859359741,2.3374533...   \n",
       "398                                                NaN   \n",
       "399                                                NaN   \n",
       "\n",
       "                               pt_latest_training_loss  \\\n",
       "0    [2.2262024879455566,2.140955686569214,1.923969...   \n",
       "1    [2.4968199729919434,1.8460111618041992,1.82043...   \n",
       "2    [2.200124502182007,2.30287504196167,2.20806741...   \n",
       "3    [2.3025057315826416,2.2905972003936768,2.08488...   \n",
       "4    [2.30769681930542,2.30904483795166,2.096481084...   \n",
       "..                                                 ...   \n",
       "395  [2.554588794708252,2.588235855102539,2.6147625...   \n",
       "396  [2.375936985015869,2.3762497901916504,2.376238...   \n",
       "397  [2.340893268585205,2.337571859359741,2.3374533...   \n",
       "398                                                NaN   \n",
       "399                                                NaN   \n",
       "\n",
       "                                      tf_training_loss  time_since_restore  \\\n",
       "0    [2.3022499084472656,2.2962820529937744,2.30336...                 NaN   \n",
       "1    [2.3017570972442627,2.3037261962890625,2.30359...                 NaN   \n",
       "2    [2.3025827407836914,2.295387506484986,2.287919...                 NaN   \n",
       "3    [2.302562475204468,2.3024942874908447,2.302377...                 NaN   \n",
       "4    [2.302609920501709,2.2870705127716064,2.271937...                 NaN   \n",
       "..                                                 ...                 ...   \n",
       "395  [2.3022260665893555,2.304032325744629,2.303966...                 NaN   \n",
       "396  [2.308305263519287,2.3087804317474365,2.308783...                 NaN   \n",
       "397  [2.3047940731048584,2.305086374282837,2.305087...                 NaN   \n",
       "398                                                NaN                 NaN   \n",
       "399                                                NaN                 NaN   \n",
       "\n",
       "     time_this_iter_s  time_total_s  timestamp  timesteps_since_restore  \\\n",
       "0                 NaN           NaN        NaN                      NaN   \n",
       "1                 NaN           NaN        NaN                      NaN   \n",
       "2                 NaN           NaN        NaN                      NaN   \n",
       "3                 NaN           NaN        NaN                      NaN   \n",
       "4                 NaN           NaN        NaN                      NaN   \n",
       "..                ...           ...        ...                      ...   \n",
       "395               NaN           NaN        NaN                      NaN   \n",
       "396               NaN           NaN        NaN                      NaN   \n",
       "397               NaN           NaN        NaN                      NaN   \n",
       "398               NaN           NaN        NaN                      NaN   \n",
       "399               NaN           NaN        NaN                      NaN   \n",
       "\n",
       "     training_iteration  \n",
       "0                   NaN  \n",
       "1                   NaN  \n",
       "2                   NaN  \n",
       "3                   NaN  \n",
       "4                   NaN  \n",
       "..                  ...  \n",
       "395                 NaN  \n",
       "396                 NaN  \n",
       "397                 NaN  \n",
       "398                 NaN  \n",
       "399                 NaN  \n",
       "\n",
       "[400 rows x 37 columns]"
      ]
     },
     "execution_count": 530,
     "metadata": {},
     "output_type": "execute_result"
    }
   ],
   "source": [
    "vgg_df"
   ]
  },
  {
   "cell_type": "code",
   "execution_count": 498,
   "metadata": {},
   "outputs": [],
   "source": [
    "from sklearn.preprocessing import minmax_scale"
   ]
  },
  {
   "cell_type": "code",
   "execution_count": 499,
   "metadata": {},
   "outputs": [],
   "source": [
    "import math"
   ]
  },
  {
   "cell_type": "code",
   "execution_count": 500,
   "metadata": {},
   "outputs": [],
   "source": [
    "scaled_adam_epsilon = minmax_scale(vgg_df['adam_epsilon'])"
   ]
  },
  {
   "cell_type": "code",
   "execution_count": 501,
   "metadata": {},
   "outputs": [],
   "source": [
    "markersize = scaled_adam_epsilon\n",
    "markercolor = vgg_df['learning_rate']"
   ]
  },
  {
   "cell_type": "code",
   "execution_count": 502,
   "metadata": {},
   "outputs": [],
   "source": [
    "fig = go.Figure()"
   ]
  },
  {
   "cell_type": "code",
   "execution_count": null,
   "metadata": {},
   "outputs": [],
   "source": [
    "fig1= go.Scatter3d(x=vgg_df['epochs'],\n",
    "                    y=vgg_df['batch_size'],\n",
    "                    z=vgg_df['accuracy_diff'],\n",
    "                    marker=dict(size=markersize,\n",
    "                                color=markercolor,\n",
    "                                colorscale='Viridis', \n",
    "                                colorbar=dict(thickness=20)),\n",
    "                    line=dict (width=0.02),\n",
    "                    mode='markers')\n",
    "                   \n",
    "\n",
    "#Make Plot.ly Layout\n",
    "mylayout = go.Layout(scene=dict(xaxis=dict( title=\"Epochs\"),\n",
    "                                yaxis=dict( title=\"Batch Size\"),\n",
    "                                zaxis=dict(title=\"Accuracy Difference\")),)\n",
    "\n",
    "plotly.offline.plot({\"data\": [fig1],\n",
    "                     \"layout\": mylayout},\n",
    "                     auto_open=True)\n",
    "\n"
   ]
  },
  {
   "cell_type": "code",
   "execution_count": 503,
   "metadata": {},
   "outputs": [],
   "source": [
    "import matplotlib.pyplot as plt"
   ]
  },
  {
   "cell_type": "code",
   "execution_count": 504,
   "metadata": {},
   "outputs": [],
   "source": [
    "import numpy as np"
   ]
  },
  {
   "cell_type": "code",
   "execution_count": null,
   "metadata": {},
   "outputs": [],
   "source": [
    "# f = plt.figure(figsize=(10,10))\n",
    "# ax = f.add_subplot(121, projection=\"3d\")\n",
    "# ax2 = f.add_subplot(122, projection=\"3d\")\n",
    "# # ax3 = f.add_subplot(133)\n",
    "# img = ax.scatter(vgg_df['learning_rate'], vgg_df['batch_size'], vgg_df['epochs'], c=vgg_df['pt_test_acc'], cmap=\"viridis\", s=vgg_df['adam_epsilon']*100, alpha=1)\n",
    "# # f.colorbar(img, label='PT Test Accuracy', pad=0.2)\n",
    "# ax.set_xlabel(\"Learning Rate\", labelpad=15)\n",
    "# ax.set_ylabel(\"Batch Size\", labelpad=15)\n",
    "# ax.set_zlabel(\"Epochs\", labelpad=15)\n",
    "# ax.set_title(\"PyTorch\")\n",
    "# img.set_clim(0, 1)\n",
    "# img2 = ax2.scatter(vgg_df['learning_rate'], vgg_df['batch_size'], vgg_df['epochs'], c=vgg_df['tf_test_acc'], cmap=\"viridis\", s=vgg_df['adam_epsilon']*100, alpha=1)\n",
    "# # f.colorbar(img2, label='TF Test Accuracy', pad=0.2)\n",
    "# img2.set_clim(0, 1)\n",
    "# plt.xlabel(\"Learning Rate\", labelpad=15)\n",
    "# plt.ylabel(\"Batch Size\", labelpad=15)\n",
    "# ax2.set_zlabel(\"Epochs\", labelpad=15)\n",
    "# ax2.set_title(\"TensorFlow\")\n",
    "# plt.tight_layout()\n",
    "# f.subplots_adjust(bottom=0.1, top=0.9, left=0.1, right=0.8,\n",
    "#                     wspace=0.02, hspace=0.02)\n",
    "\n",
    "# # add an axes, lower left corner in [0.83, 0.1] measured in figure coordinate with axes width 0.02 and height 0.8\n",
    "\n",
    "# cb_ax = f.add_axes([0.83, 0.1, 0.02, 0.8])\n",
    "# cbar = f.colorbar(img, cax=cb_ax, pad=0.5)"
   ]
  },
  {
   "cell_type": "code",
   "execution_count": 564,
   "metadata": {},
   "outputs": [],
   "source": [
    "resnet_df = pd.read_csv('../wandb_results/resnet_cifar10_wandb_export.csv')"
   ]
  },
  {
   "cell_type": "code",
   "execution_count": 565,
   "metadata": {},
   "outputs": [],
   "source": [
    "import matplotlib as mpl"
   ]
  },
  {
   "cell_type": "code",
   "execution_count": 566,
   "metadata": {},
   "outputs": [
    {
     "data": {
      "text/plain": [
       "0.12280131364205502"
      ]
     },
     "execution_count": 566,
     "metadata": {},
     "output_type": "execute_result"
    }
   ],
   "source": [
    "np.mean(resnet_df['accuracy_diff'])"
   ]
  },
  {
   "cell_type": "code",
   "execution_count": 567,
   "metadata": {},
   "outputs": [
    {
     "data": {
      "text/plain": [
       "0.0843387575"
      ]
     },
     "execution_count": 567,
     "metadata": {},
     "output_type": "execute_result"
    }
   ],
   "source": [
    "np.median(resnet_df['accuracy_diff'])"
   ]
  },
  {
   "cell_type": "code",
   "execution_count": 568,
   "metadata": {},
   "outputs": [
    {
     "data": {
      "text/plain": [
       "0      6.815194e-01\n",
       "1      6.561938e-01\n",
       "2      6.532896e-01\n",
       "3      6.471333e-01\n",
       "4      6.318243e-01\n",
       "           ...     \n",
       "395    4.170000e-10\n",
       "396    4.170000e-10\n",
       "397    4.170000e-10\n",
       "398    3.016354e-01\n",
       "399    2.114525e-03\n",
       "Name: accuracy_diff, Length: 400, dtype: float64"
      ]
     },
     "execution_count": 568,
     "metadata": {},
     "output_type": "execute_result"
    }
   ],
   "source": [
    "resnet_df['accuracy_diff']"
   ]
  },
  {
   "cell_type": "code",
   "execution_count": 569,
   "metadata": {},
   "outputs": [],
   "source": [
    "resnet_df['reaches_threshold'] = resnet_df['accuracy_diff'] > np.median(resnet_df['accuracy_diff'])"
   ]
  },
  {
   "cell_type": "code",
   "execution_count": 570,
   "metadata": {},
   "outputs": [],
   "source": [
    "resnet_df_reaches_threshold = resnet_df[resnet_df['reaches_threshold']]"
   ]
  },
  {
   "cell_type": "code",
   "execution_count": 571,
   "metadata": {},
   "outputs": [
    {
     "data": {
      "text/plain": [
       "0      0.681519\n",
       "1      0.656194\n",
       "2      0.653290\n",
       "3      0.647133\n",
       "4      0.631824\n",
       "         ...   \n",
       "195    0.086433\n",
       "196    0.085861\n",
       "197    0.085347\n",
       "198    0.084765\n",
       "398    0.301635\n",
       "Name: accuracy_diff, Length: 200, dtype: float64"
      ]
     },
     "execution_count": 571,
     "metadata": {},
     "output_type": "execute_result"
    }
   ],
   "source": [
    "resnet_df_reaches_threshold['accuracy_diff']"
   ]
  },
  {
   "cell_type": "code",
   "execution_count": 572,
   "metadata": {},
   "outputs": [],
   "source": [
    "resnet_df_below_threshold = resnet_df[~resnet_df['reaches_threshold']]"
   ]
  },
  {
   "cell_type": "code",
   "execution_count": 573,
   "metadata": {},
   "outputs": [
    {
     "data": {
      "text/plain": [
       "199    8.391292e-02\n",
       "200    8.271380e-02\n",
       "201    8.199715e-02\n",
       "202    8.161598e-02\n",
       "203    8.096042e-02\n",
       "           ...     \n",
       "394    4.170000e-10\n",
       "395    4.170000e-10\n",
       "396    4.170000e-10\n",
       "397    4.170000e-10\n",
       "399    2.114525e-03\n",
       "Name: accuracy_diff, Length: 200, dtype: float64"
      ]
     },
     "execution_count": 573,
     "metadata": {},
     "output_type": "execute_result"
    }
   ],
   "source": [
    "resnet_df_below_threshold['accuracy_diff']"
   ]
  },
  {
   "cell_type": "code",
   "execution_count": 574,
   "metadata": {},
   "outputs": [
    {
     "data": {
      "text/plain": [
       "4.17e-10"
      ]
     },
     "execution_count": 574,
     "metadata": {},
     "output_type": "execute_result"
    }
   ],
   "source": [
    "min(resnet_df['accuracy_diff'])"
   ]
  },
  {
   "cell_type": "code",
   "execution_count": 575,
   "metadata": {},
   "outputs": [
    {
     "data": {
      "text/plain": [
       "0.6815193940000001"
      ]
     },
     "execution_count": 575,
     "metadata": {},
     "output_type": "execute_result"
    }
   ],
   "source": [
    "max(resnet_df['accuracy_diff'])"
   ]
  },
  {
   "cell_type": "code",
   "execution_count": 576,
   "metadata": {},
   "outputs": [
    {
     "data": {
      "text/plain": [
       "0.0843387575"
      ]
     },
     "execution_count": 576,
     "metadata": {},
     "output_type": "execute_result"
    }
   ],
   "source": [
    "np.median(resnet_df['accuracy_diff'])"
   ]
  },
  {
   "cell_type": "code",
   "execution_count": 577,
   "metadata": {},
   "outputs": [
    {
     "data": {
      "text/plain": [
       "0.12280131364205502"
      ]
     },
     "execution_count": 577,
     "metadata": {},
     "output_type": "execute_result"
    }
   ],
   "source": [
    "np.mean(resnet_df['accuracy_diff'])"
   ]
  },
  {
   "cell_type": "code",
   "execution_count": 578,
   "metadata": {},
   "outputs": [
    {
     "data": {
      "image/png": "[encoded data removed]",
      "text/plain": [
       "<Figure size 640x480 with 2 Axes>"
      ]
     },
     "metadata": {},
     "output_type": "display_data"
    }
   ],
   "source": [
    "fig = plt.figure()\n",
    "ax = fig.add_subplot(111, projection='3d')\n",
    "img1 = ax.scatter(resnet_df_below_threshold['learning_rate'], resnet_df_below_threshold['batch_size'], resnet_df_below_threshold['epochs'],  c=\"Grey\", s=resnet_df_below_threshold['adam_epsilon']*100, alpha=0.2, vmin=0, vmax=1)\n",
    "img = ax.scatter(resnet_df_reaches_threshold['learning_rate'], resnet_df_reaches_threshold['batch_size'], resnet_df_reaches_threshold['epochs'], c=resnet_df_reaches_threshold['accuracy_diff'], cmap=\"viridis\", s=resnet_df_reaches_threshold['adam_epsilon']*100, alpha=0.75, vmin=0, vmax=0.7)\n",
    "# img.set_clim(0, 1)\n",
    "fig.colorbar(img, label='Accuracy Diff', pad=0.2, fraction=0.03)\n",
    "plt.xlabel(\"Learning Rate\", labelpad=15)\n",
    "# ax.set_xticklabels(rotation = (45), fontsize = 10, va='bottom', ha='left')\n",
    "plt.ylabel(\"Batch Size\", labelpad=15)\n",
    "ax.set_zlabel(\"Epochs\", labelpad=15)\n",
    "plt.tight_layout()\n",
    "plt.locator_params(axis='x', nbins=5)\n",
    "plt.show()"
   ]
  },
  {
   "cell_type": "code",
   "execution_count": 559,
   "metadata": {},
   "outputs": [
    {
     "data": {
      "text/plain": [
       "0.7712000012397766"
      ]
     },
     "execution_count": 559,
     "metadata": {},
     "output_type": "execute_result"
    }
   ],
   "source": [
    "# np.max(dense_df['tf_test_acc'])"
   ]
  },
  {
   "cell_type": "code",
   "execution_count": 560,
   "metadata": {},
   "outputs": [
    {
     "data": {
      "text/plain": [
       "0.03854268257107052"
      ]
     },
     "execution_count": 560,
     "metadata": {},
     "output_type": "execute_result"
    }
   ],
   "source": [
    "# np.median(resnet_df['accuracy_diff'])"
   ]
  },
  {
   "cell_type": "code",
   "execution_count": null,
   "metadata": {},
   "outputs": [],
   "source": [
    "# torch_model.state_dict().keys()"
   ]
  },
  {
   "cell_type": "code",
   "execution_count": 520,
   "metadata": {},
   "outputs": [
    {
     "data": {
      "text/plain": [
       "1e-08"
      ]
     },
     "execution_count": 520,
     "metadata": {},
     "output_type": "execute_result"
    }
   ],
   "source": [
    "# min(vgg_df['learning_rate'])"
   ]
  },
  {
   "cell_type": "code",
   "execution_count": 579,
   "metadata": {},
   "outputs": [],
   "source": [
    "fig.savefig('resnet_params_5d_median_cutoff.png', dpi=500, bbox_inches=\"tight\")"
   ]
  },
  {
   "cell_type": "code",
   "execution_count": null,
   "metadata": {},
   "outputs": [],
   "source": [
    "plt.show()"
   ]
  },
  {
   "cell_type": "code",
   "execution_count": null,
   "metadata": {},
   "outputs": [],
   "source": [
    "plt.scatter(vgg_df['learning_rate'], vgg_df['accuracy_diff'])"
   ]
  },
  {
   "cell_type": "code",
   "execution_count": null,
   "metadata": {},
   "outputs": [],
   "source": [
    "plt.scatter(vgg_df['batch_size'], vgg_df['accuracy_diff'])"
   ]
  },
  {
   "cell_type": "code",
   "execution_count": null,
   "metadata": {},
   "outputs": [],
   "source": [
    "plt.scatter(vgg_df['adam_epsilon'], vgg_df['accuracy_diff'])"
   ]
  },
  {
   "cell_type": "code",
   "execution_count": null,
   "metadata": {},
   "outputs": [],
   "source": [
    "plt.scatter(vgg_df['epochs'], vgg_df['accuracy_diff'])"
   ]
  },
  {
   "cell_type": "markdown",
   "metadata": {},
   "source": [
    "### Trying out PCA..."
   ]
  },
  {
   "cell_type": "code",
   "execution_count": null,
   "metadata": {},
   "outputs": [],
   "source": [
    "from sklearn.preprocessing import StandardScaler"
   ]
  },
  {
   "cell_type": "code",
   "execution_count": null,
   "metadata": {},
   "outputs": [],
   "source": [
    "features = ['epochs', 'batch_size', 'learning_rate', 'adam_epsilon']\n",
    "X = vgg_df[features].values\n",
    "y = vgg_df['accuracy_diff'].values"
   ]
  },
  {
   "cell_type": "code",
   "execution_count": null,
   "metadata": {},
   "outputs": [],
   "source": [
    "X = StandardScaler().fit_transform(X)"
   ]
  },
  {
   "cell_type": "code",
   "execution_count": null,
   "metadata": {},
   "outputs": [],
   "source": [
    "# thanks to https://towardsdatascience.com/pca-using-python-scikit-learn-e653f8989e60"
   ]
  },
  {
   "cell_type": "code",
   "execution_count": null,
   "metadata": {},
   "outputs": [],
   "source": [
    "# Import PCA from sklearn\n",
    "from sklearn.decomposition import PCA\n",
    "\n",
    "# Instantiate PCA\n",
    "pca = PCA(n_components=2, random_state=0)\n",
    "\n",
    "# Fit PCA to features\n",
    "principalComponents = pca.fit_transform(X)"
   ]
  },
  {
   "cell_type": "code",
   "execution_count": null,
   "metadata": {},
   "outputs": [],
   "source": [
    "pca.explained_variance_ratio_"
   ]
  },
  {
   "cell_type": "code",
   "execution_count": null,
   "metadata": {},
   "outputs": [],
   "source": [
    "pca.get_covariance()"
   ]
  },
  {
   "cell_type": "code",
   "execution_count": null,
   "metadata": {},
   "outputs": [],
   "source": [
    "import matplotlib.pyplot as plt\n",
    "\n",
    "SMALL_SIZE = 14\n",
    "MEDIUM_SIZE = 18\n",
    "BIGGER_SIZE = 22\n",
    "\n",
    "plt.rc('font', size=SMALL_SIZE)          # controls default text sizes\n",
    "plt.rc('axes', titlesize=SMALL_SIZE)     # fontsize of the axes title\n",
    "plt.rc('axes', labelsize=MEDIUM_SIZE)    # fontsize of the x and y labels\n",
    "plt.rc('xtick', labelsize=SMALL_SIZE)    # fontsize of the tick labels\n",
    "plt.rc('ytick', labelsize=SMALL_SIZE)    # fontsize of the tick labels\n",
    "plt.rc('legend', fontsize=SMALL_SIZE)    # legend fontsize\n",
    "plt.rc('figure', titlesize=BIGGER_SIZE)  # fontsize of the figure title"
   ]
  },
  {
   "cell_type": "code",
   "execution_count": null,
   "metadata": {},
   "outputs": [],
   "source": [
    "import seaborn as sns"
   ]
  },
  {
   "cell_type": "code",
   "execution_count": null,
   "metadata": {},
   "outputs": [],
   "source": [
    "# fig = plt.figure(figsize=(15, 15))\n",
    "fig = plt.figure()\n",
    "ax = fig.add_subplot(111)\n",
    "img = plt.scatter(principalComponents[:, 0],principalComponents[:, 1] , c= vgg_df['accuracy_diff'], cmap=\"viridis\")\n",
    "fig.colorbar(img, orientation=\"vertical\", label=\"Accuracy Differnece\")\n",
    "ax.set_xlabel('PCA Component 1')\n",
    "ax.set_ylabel('PCA Component 2')\n",
    "plt.savefig('vgg_pca_params.png', bbox_inches=\"tight\", dpi=200)"
   ]
  },
  {
   "cell_type": "markdown",
   "metadata": {},
   "source": [
    "### For DenseNet"
   ]
  },
  {
   "cell_type": "code",
   "execution_count": null,
   "metadata": {},
   "outputs": [],
   "source": [
    "dense_df = pd.read_csv('../wandb_results/densenet_cifar10_wandb_export.csv')"
   ]
  },
  {
   "cell_type": "code",
   "execution_count": null,
   "metadata": {},
   "outputs": [],
   "source": [
    "features = ['epochs', 'batch_size', 'learning_rate', 'adam_epsilon']\n",
    "dense_X = dense_df[features].values\n",
    "dense_y = dense_df['accuracy_diff'].values"
   ]
  },
  {
   "cell_type": "code",
   "execution_count": null,
   "metadata": {},
   "outputs": [],
   "source": [
    "dense_X = StandardScaler().fit_transform(dense_X)"
   ]
  },
  {
   "cell_type": "code",
   "execution_count": null,
   "metadata": {},
   "outputs": [],
   "source": [
    "dense_pca = PCA(n_components=2, random_state=0)\n",
    "\n",
    "# Fit PCA to features\n",
    "dense_principal_components = dense_pca.fit_transform(dense_X)"
   ]
  },
  {
   "cell_type": "code",
   "execution_count": null,
   "metadata": {},
   "outputs": [],
   "source": [
    "dense_pca.get_covariance()"
   ]
  },
  {
   "cell_type": "code",
   "execution_count": null,
   "metadata": {},
   "outputs": [],
   "source": [
    "dense_pca.explained_variance_ratio_"
   ]
  },
  {
   "cell_type": "code",
   "execution_count": null,
   "metadata": {},
   "outputs": [],
   "source": [
    "fig = plt.figure()\n",
    "ax = fig.add_subplot(111)\n",
    "img = plt.scatter(dense_principal_components[:, 0],dense_principal_components[:, 1] , c= dense_df['accuracy_diff'], cmap=\"viridis\")\n",
    "fig.colorbar(img, orientation=\"vertical\", label=\"Accuracy Difference\")\n",
    "ax.set_xlabel('PCA Component 1')\n",
    "ax.set_ylabel('PCA Component 2')\n",
    "plt.savefig('dense_pca_params.png', bbox_inches=\"tight\", dpi=200)"
   ]
  },
  {
   "cell_type": "markdown",
   "metadata": {},
   "source": [
    "### For ResNet"
   ]
  },
  {
   "cell_type": "code",
   "execution_count": null,
   "metadata": {},
   "outputs": [],
   "source": [
    "resnet_df = pd.read_csv('../wandb_results/resnet_cifar10_wandb_export.csv')"
   ]
  },
  {
   "cell_type": "code",
   "execution_count": null,
   "metadata": {},
   "outputs": [],
   "source": [
    "features = ['epochs', 'batch_size', 'learning_rate', 'adam_epsilon']\n",
    "resnet_X = resnet_df[features].values\n",
    "resnet_y = resnet_df['accuracy_diff'].values"
   ]
  },
  {
   "cell_type": "code",
   "execution_count": null,
   "metadata": {},
   "outputs": [],
   "source": [
    "resnet_X = StandardScaler().fit_transform(resnet_X)"
   ]
  },
  {
   "cell_type": "code",
   "execution_count": null,
   "metadata": {},
   "outputs": [],
   "source": [
    "resnet_pca = PCA(n_components=2, random_state=0)\n",
    "\n",
    "# Fit PCA to features\n",
    "resnet_principal_components = resnet_pca.fit_transform(resnet_X)"
   ]
  },
  {
   "cell_type": "code",
   "execution_count": null,
   "metadata": {},
   "outputs": [],
   "source": [
    "resnet_pca.get_covariance()"
   ]
  },
  {
   "cell_type": "code",
   "execution_count": null,
   "metadata": {},
   "outputs": [],
   "source": [
    "resnet_pca.explained_variance_ratio_"
   ]
  },
  {
   "cell_type": "code",
   "execution_count": null,
   "metadata": {},
   "outputs": [],
   "source": [
    "fig = plt.figure()\n",
    "ax = fig.add_subplot(111)\n",
    "img = plt.scatter(resnet_principal_components[:, 0],resnet_principal_components[:, 1] , c= resnet_df['accuracy_diff'], cmap=\"viridis\")\n",
    "fig.colorbar(img, orientation=\"vertical\", label=\"Accuracy Difference\")\n",
    "ax.set_xlabel('PCA Component 1')\n",
    "ax.set_ylabel('PCA Component 2')\n",
    "plt.savefig('resnet_pca_params.png', bbox_inches=\"tight\", dpi=200)"
   ]
  },
  {
   "cell_type": "code",
   "execution_count": null,
   "metadata": {},
   "outputs": [],
   "source": []
  }
 ],
 "metadata": {
  "kernelspec": {
   "display_name": "Python 3",
   "language": "python",
   "name": "python3"
  },
  "language_info": {
   "codemirror_mode": {
    "name": "ipython",
    "version": 3
   },
   "file_extension": ".py",
   "mimetype": "text/x-python",
   "name": "python",
   "nbconvert_exporter": "python",
   "pygments_lexer": "ipython3",
   "version": "3.8.5"
  }
 },
 "nbformat": 4,
 "nbformat_minor": 4
}
