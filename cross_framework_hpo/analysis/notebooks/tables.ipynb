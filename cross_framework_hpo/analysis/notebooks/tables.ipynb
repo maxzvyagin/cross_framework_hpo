{
 "cells": [
  {
   "cell_type": "code",
   "execution_count": 1,
   "metadata": {},
   "outputs": [],
   "source": [
    "import pandas as pd"
   ]
  },
  {
   "cell_type": "code",
   "execution_count": 2,
   "metadata": {},
   "outputs": [],
   "source": [
    "pd.set_option('display.float_format', lambda x: '%.5f' % x)"
   ]
  },
  {
   "cell_type": "markdown",
   "metadata": {},
   "source": [
    "### VGG"
   ]
  },
  {
   "cell_type": "code",
   "execution_count": 3,
   "metadata": {},
   "outputs": [],
   "source": [
    "vgg_df = pd.read_csv('../wandb_results/vgg_cifar10_wandb_export.csv')"
   ]
  },
  {
   "cell_type": "code",
   "execution_count": null,
   "metadata": {},
   "outputs": [],
   "source": [
    "filtered_vgg_df = vgg_df.filter(['adam_epsilon', 'batch_size', 'learning_rate', 'epochs', 'pt_test_acc', 'tf_test_acc', 'accuracy_diff'])\n",
    "filtered_vgg_df = filtered_vgg_df.sort_values('accuracy_diff', ascending=False)"
   ]
  },
  {
   "cell_type": "code",
   "execution_count": null,
   "metadata": {},
   "outputs": [],
   "source": [
    "filtered_vgg_df = filtered_vgg_df.reset_index(drop=True)"
   ]
  },
  {
   "cell_type": "code",
   "execution_count": null,
   "metadata": {},
   "outputs": [],
   "source": [
    "print(filtered_vgg_df[:3].append(filtered_vgg_df[-3:]).to_latex(index=False, caption=\"VGG Top 3 and Bottom 3\", label=\"tab:top_and_bottom_vgg\"))"
   ]
  },
  {
   "cell_type": "code",
   "execution_count": null,
   "metadata": {},
   "outputs": [],
   "source": [
    "print(max(dense_df['pt_test_acc']))\n",
    "print(max(dense_df['tf_test_acc']))\n",
    "print(min(dense_df['pt_test_acc']))\n",
    "print(min(dense_df['tf_test_acc']))"
   ]
  },
  {
   "cell_type": "markdown",
   "metadata": {},
   "source": [
    "### ResNet"
   ]
  },
  {
   "cell_type": "code",
   "execution_count": 4,
   "metadata": {},
   "outputs": [],
   "source": [
    "resnet_df = pd.read_csv('../wandb_results/resnet_cifar10_wandb_export.csv')"
   ]
  },
  {
   "cell_type": "code",
   "execution_count": null,
   "metadata": {},
   "outputs": [],
   "source": [
    "filtered_res_df = resnet_df.filter(['adam_epsilon', 'batch_size', 'learning_rate', 'epochs', 'pt_test_acc', 'tf_test_acc', 'accuracy_diff'])\n",
    "filtered_res_df = filtered_res_df.sort_values('accuracy_diff', ascending=False)\n",
    "filtered_res_df = filtered_res_df.reset_index(drop=True)\n",
    "print(filtered_res_df[:3].append(filtered_res_df[-3:]).to_latex(index=False, caption=\"ResNet Top 3 and Bottom 3\", label=\"tab:top_and_bottom_resnet\"))"
   ]
  },
  {
   "cell_type": "code",
   "execution_count": 5,
   "metadata": {},
   "outputs": [],
   "source": [
    "dense_df = pd.read_csv('../wandb_results/densenet_cifar10_wandb_export.csv')"
   ]
  },
  {
   "cell_type": "code",
   "execution_count": null,
   "metadata": {},
   "outputs": [],
   "source": [
    "filtered_dense_df = dense_df.filter(['adam_epsilon', 'batch_size', 'learning_rate', 'epochs', 'pt_test_acc', 'tf_test_acc', 'accuracy_diff'])\n",
    "filtered_dense_df = filtered_dense_df.sort_values('accuracy_diff', ascending=False)\n",
    "filtered_dense_df = filtered_dense_df.reset_index(drop=True)\n",
    "print(filtered_dense_df[:3].append(filtered_dense_df[-3:]).to_latex(index=False, caption=\"DenseNet Top 3 and Bottom 3\", label=\"tab:top_and_bottom_densenet\"))"
   ]
  },
  {
   "cell_type": "code",
   "execution_count": null,
   "metadata": {},
   "outputs": [],
   "source": [
    "all_acc_diffs = (vgg_df['accuracy_diff'].tolist())\n",
    "all_acc_diffs.extend(resnet_df['accuracy_diff'].tolist())\n",
    "all_acc_diffs.extend(dense_df['accuracy_diff'].tolist())"
   ]
  },
  {
   "cell_type": "code",
   "execution_count": null,
   "metadata": {},
   "outputs": [],
   "source": [
    "len(all_acc_diffs)"
   ]
  },
  {
   "cell_type": "code",
   "execution_count": null,
   "metadata": {},
   "outputs": [],
   "source": [
    "import numpy as np\n",
    "all_acc_diffs = np.array(all_acc_diffs)"
   ]
  },
  {
   "cell_type": "code",
   "execution_count": null,
   "metadata": {},
   "outputs": [],
   "source": [
    "np.count_nonzero(all_acc_diffs > 0.05)/all_acc_diffs.size"
   ]
  },
  {
   "cell_type": "code",
   "execution_count": null,
   "metadata": {},
   "outputs": [],
   "source": [
    "np.count_nonzero(all_acc_diffs > 0.01)/all_acc_diffs.size"
   ]
  },
  {
   "cell_type": "code",
   "execution_count": null,
   "metadata": {},
   "outputs": [],
   "source": [
    "vgg_df['learning_rate']"
   ]
  },
  {
   "cell_type": "code",
   "execution_count": null,
   "metadata": {},
   "outputs": [],
   "source": [
    "lr = vgg_df['learning_rate'].tolist()"
   ]
  },
  {
   "cell_type": "code",
   "execution_count": null,
   "metadata": {},
   "outputs": [],
   "source": [
    "lr.extend(resnet_df['learning_rate'].tolist())"
   ]
  },
  {
   "cell_type": "code",
   "execution_count": null,
   "metadata": {},
   "outputs": [],
   "source": [
    "lr.extend(dense_df['learning_rate'].tolist())"
   ]
  },
  {
   "cell_type": "code",
   "execution_count": null,
   "metadata": {},
   "outputs": [],
   "source": [
    "len(lr)"
   ]
  },
  {
   "cell_type": "code",
   "execution_count": null,
   "metadata": {},
   "outputs": [],
   "source": [
    "import seaborn as sns"
   ]
  },
  {
   "cell_type": "code",
   "execution_count": null,
   "metadata": {},
   "outputs": [],
   "source": [
    "lr"
   ]
  },
  {
   "cell_type": "code",
   "execution_count": null,
   "metadata": {},
   "outputs": [],
   "source": [
    "lr_np = np.array(lr).flatten().shape"
   ]
  },
  {
   "cell_type": "code",
   "execution_count": null,
   "metadata": {},
   "outputs": [],
   "source": [
    "plt.hist(lr, bins=51)"
   ]
  },
  {
   "cell_type": "code",
   "execution_count": null,
   "metadata": {},
   "outputs": [],
   "source": [
    "sum(np.array([ 81., 103., 132., 153., 150., 173., 175.,  76.,  64.,  93.]))"
   ]
  },
  {
   "cell_type": "code",
   "execution_count": null,
   "metadata": {},
   "outputs": [],
   "source": []
  }
 ],
 "metadata": {
  "kernelspec": {
   "display_name": "Python 3",
   "language": "python",
   "name": "python3"
  },
  "language_info": {
   "codemirror_mode": {
    "name": "ipython",
    "version": 3
   },
   "file_extension": ".py",
   "mimetype": "text/x-python",
   "name": "python",
   "nbconvert_exporter": "python",
   "pygments_lexer": "ipython3",
   "version": "3.8.5"
  }
 },
 "nbformat": 4,
 "nbformat_minor": 4
}
