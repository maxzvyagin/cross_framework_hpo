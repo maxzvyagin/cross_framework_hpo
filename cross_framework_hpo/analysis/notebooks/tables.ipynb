{
 "cells": [
  {
   "cell_type": "code",
   "execution_count": 45,
   "metadata": {},
   "outputs": [],
   "source": [
    "import pandas as pd"
   ]
  },
  {
   "cell_type": "code",
   "execution_count": 46,
   "metadata": {},
   "outputs": [],
   "source": [
    "pd.set_option('display.float_format', lambda x: '%.5f' % x)"
   ]
  },
  {
   "cell_type": "markdown",
   "metadata": {},
   "source": [
    "### VGG"
   ]
  },
  {
   "cell_type": "code",
   "execution_count": 53,
   "metadata": {},
   "outputs": [],
   "source": [
    "vgg_df = pd.read_csv('../wandb_results/vgg_cifar10_wandb_export.csv')"
   ]
  },
  {
   "cell_type": "code",
   "execution_count": 54,
   "metadata": {},
   "outputs": [],
   "source": [
    "filtered_vgg_df = vgg_df.filter(['adam_epsilon', 'batch_size', 'learning_rate', 'epochs', 'pt_test_acc', 'tf_test_acc', 'accuracy_diff'])\n",
    "filtered_vgg_df = filtered_vgg_df.sort_values('accuracy_diff', ascending=False)"
   ]
  },
  {
   "cell_type": "code",
   "execution_count": 55,
   "metadata": {},
   "outputs": [],
   "source": [
    "filtered_vgg_df = filtered_vgg_df.reset_index(drop=True)"
   ]
  },
  {
   "cell_type": "code",
   "execution_count": 56,
   "metadata": {},
   "outputs": [
    {
     "name": "stdout",
     "output_type": "stream",
     "text": [
      "\\begin{table}\n",
      "\\centering\n",
      "\\caption{VGG Top 3 and Bottom 3}\n",
      "\\label{tab:top_and_bottom_vgg}\n",
      "\\begin{tabular}{rrrrrrr}\n",
      "\\toprule\n",
      " adam\\_epsilon &  batch\\_size &  learning\\_rate &  epochs &  pt\\_test\\_acc &  tf\\_test\\_acc &  accuracy\\_diff \\\\\n",
      "\\midrule\n",
      "      0.19658 &         202 &        0.09901 &      50 &      0.09998 &      0.78150 &        0.68152 \\\\\n",
      "      0.73954 &          22 &        0.06213 &      21 &      0.75619 &      0.10000 &        0.65619 \\\\\n",
      "      0.16867 &         242 &        0.09234 &      21 &      0.75329 &      0.10000 &        0.65329 \\\\\n",
      "      0.84102 &          10 &        0.05205 &      21 &      0.10000 &      0.10000 &        0.00000 \\\\\n",
      "      0.07937 &          10 &        0.04891 &       7 &      0.10000 &      0.10000 &        0.00000 \\\\\n",
      "      0.35535 &          10 &        0.04866 &      46 &      0.10000 &      0.10000 &        0.00000 \\\\\n",
      "\\bottomrule\n",
      "\\end{tabular}\n",
      "\\end{table}\n",
      "\n"
     ]
    }
   ],
   "source": [
    "print(filtered_vgg_df[:3].append(filtered_vgg_df[-3:]).to_latex(index=False, caption=\"VGG Top 3 and Bottom 3\", label=\"tab:top_and_bottom_vgg\"))"
   ]
  },
  {
   "cell_type": "markdown",
   "metadata": {},
   "source": [
    "### ResNet"
   ]
  },
  {
   "cell_type": "code",
   "execution_count": 39,
   "metadata": {},
   "outputs": [],
   "source": [
    "resnet_df = pd.read_csv('../wandb_results/resnet_cifar10_wandb_export.csv')"
   ]
  },
  {
   "cell_type": "code",
   "execution_count": 41,
   "metadata": {},
   "outputs": [
    {
     "name": "stdout",
     "output_type": "stream",
     "text": [
      "\\begin{table}\n",
      "\\centering\n",
      "\\caption{ResNet Top 3 and Bottom 3}\n",
      "\\label{tab:top_and_bottom_resnet}\n",
      "\\begin{tabular}{rrrrrrr}\n",
      "\\toprule\n",
      " adam\\_epsilon &  batch\\_size &  learning\\_rate &  epochs &  pt\\_test\\_acc &  tf\\_test\\_acc &  accuracy\\_diff \\\\\n",
      "\\midrule\n",
      "      0.20390 &         382 &        0.05596 &      26 &      0.59364 &      0.09990 &        0.49374 \\\\\n",
      "      0.20259 &         466 &        0.05103 &      24 &      0.61146 &      0.12910 &        0.48236 \\\\\n",
      "      0.46381 &         502 &        0.07989 &      20 &      0.57465 &      0.10610 &        0.46855 \\\\\n",
      "      0.53622 &         904 &        0.03705 &      26 &      0.47656 &      0.47680 &        0.00024 \\\\\n",
      "      0.18580 &         388 &        0.01245 &      20 &      0.53219 &      0.53240 &        0.00021 \\\\\n",
      "      0.91122 &         904 &        0.07455 &      45 &      0.53747 &      0.53730 &        0.00017 \\\\\n",
      "\\bottomrule\n",
      "\\end{tabular}\n",
      "\\end{table}\n",
      "\n"
     ]
    }
   ],
   "source": [
    "filtered_res_df = resnet_df.filter(['adam_epsilon', 'batch_size', 'learning_rate', 'epochs', 'pt_test_acc', 'tf_test_acc', 'accuracy_diff'])\n",
    "filtered_res_df = filtered_res_df.sort_values('accuracy_diff', ascending=False)\n",
    "filtered_res_df = filtered_res_df.reset_index(drop=True)\n",
    "print(filtered_res_df[:3].append(filtered_res_df[-3:]).to_latex(index=False, caption=\"ResNet Top 3 and Bottom 3\", label=\"tab:top_and_bottom_resnet\"))"
   ]
  },
  {
   "cell_type": "code",
   "execution_count": 51,
   "metadata": {},
   "outputs": [],
   "source": [
    "dense_df = pd.read_csv('../wandb_results/densenet_cifar10_wandb_export.csv')"
   ]
  },
  {
   "cell_type": "code",
   "execution_count": 52,
   "metadata": {},
   "outputs": [
    {
     "name": "stdout",
     "output_type": "stream",
     "text": [
      "\\begin{table}\n",
      "\\centering\n",
      "\\caption{DenseNet Top 3 and Bottom 3}\n",
      "\\label{tab:top_and_bottom_densenet}\n",
      "\\begin{tabular}{rrrrrrr}\n",
      "\\toprule\n",
      " adam\\_epsilon &  batch\\_size &  learning\\_rate &  epochs &  pt\\_test\\_acc &  tf\\_test\\_acc &  accuracy\\_diff \\\\\n",
      "\\midrule\n",
      "      0.37500 &         589 &        0.05955 &       2 &      0.54946 &      0.11050 &        0.43896 \\\\\n",
      "      0.62937 &         824 &        0.08118 &       2 &      0.52159 &      0.08830 &        0.43329 \\\\\n",
      "      0.37500 &         686 &        0.06250 &       3 &      0.56427 &      0.15010 &        0.41417 \\\\\n",
      "      0.08772 &         602 &        0.02302 &      46 &      0.73392 &      0.73320 &        0.00072 \\\\\n",
      "      0.71086 &         370 &        0.08254 &      43 &      0.71602 &      0.71650 &        0.00048 \\\\\n",
      "      0.60260 &          13 &        0.05400 &       1 &      0.09990 &      0.10000 &        0.00010 \\\\\n",
      "\\bottomrule\n",
      "\\end{tabular}\n",
      "\\end{table}\n",
      "\n"
     ]
    }
   ],
   "source": [
    "filtered_dense_df = dense_df.filter(['adam_epsilon', 'batch_size', 'learning_rate', 'epochs', 'pt_test_acc', 'tf_test_acc', 'accuracy_diff'])\n",
    "filtered_dense_df = filtered_dense_df.sort_values('accuracy_diff', ascending=False)\n",
    "filtered_dense_df = filtered_dense_df.reset_index(drop=True)\n",
    "print(filtered_dense_df[:3].append(filtered_dense_df[-3:]).to_latex(index=False, caption=\"DenseNet Top 3 and Bottom 3\", label=\"tab:top_and_bottom_densenet\"))"
   ]
  },
  {
   "cell_type": "code",
   "execution_count": null,
   "metadata": {},
   "outputs": [],
   "source": []
  }
 ],
 "metadata": {
  "kernelspec": {
   "display_name": "Python 3",
   "language": "python",
   "name": "python3"
  },
  "language_info": {
   "codemirror_mode": {
    "name": "ipython",
    "version": 3
   },
   "file_extension": ".py",
   "mimetype": "text/x-python",
   "name": "python",
   "nbconvert_exporter": "python",
   "pygments_lexer": "ipython3",
   "version": "3.8.5"
  }
 },
 "nbformat": 4,
 "nbformat_minor": 4
}
