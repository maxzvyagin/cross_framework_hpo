{
 "cells": [
  {
   "cell_type": "code",
   "execution_count": 1,
   "metadata": {},
   "outputs": [],
   "source": [
    "import pandas as pd"
   ]
  },
  {
   "cell_type": "code",
   "execution_count": 29,
   "metadata": {},
   "outputs": [],
   "source": [
    "pd.set_option('display.float_format', lambda x: '%.5f' % x)"
   ]
  },
  {
   "cell_type": "markdown",
   "metadata": {},
   "source": [
    "### VGG"
   ]
  },
  {
   "cell_type": "code",
   "execution_count": 31,
   "metadata": {},
   "outputs": [],
   "source": [
    "vgg_df = pd.read_csv('../wandb_results/vgg_cifar10_wandb_export.csv')"
   ]
  },
  {
   "cell_type": "code",
   "execution_count": 32,
   "metadata": {},
   "outputs": [],
   "source": [
    "filtered_vgg_df = vgg_df.filter(['adam_epsilon', 'batch_size', 'learning_rate', 'epochs', 'pt_test_acc', 'tf_test_acc', 'accuracy_diff'])\n",
    "filtered_vgg_df = filtered_vgg_df.sort_values('accuracy_diff', ascending=False)"
   ]
  },
  {
   "cell_type": "code",
   "execution_count": 33,
   "metadata": {},
   "outputs": [],
   "source": [
    "filtered_vgg_df = filtered_vgg_df.reset_index(drop=True)"
   ]
  },
  {
   "cell_type": "code",
   "execution_count": 38,
   "metadata": {},
   "outputs": [
    {
     "name": "stdout",
     "output_type": "stream",
     "text": [
      "\\begin{table}\n",
      "\\centering\n",
      "\\caption{VGG Top 3 and Bottom 3}\n",
      "\\label{tab:top_and_bottom_vgg}\n",
      "\\begin{tabular}{rrrrrrr}\n",
      "\\toprule\n",
      " adam\\_epsilon &  batch\\_size &  learning\\_rate &  epochs &  pt\\_test\\_acc &  tf\\_test\\_acc &  accuracy\\_diff \\\\\n",
      "\\midrule\n",
      "      0.03016 &         601 &        0.02256 &      50 &      0.75665 &      0.10000 &        0.65665 \\\\\n",
      "      0.12236 &          86 &        0.06117 &      23 &      0.10015 &      0.74820 &        0.64805 \\\\\n",
      "      0.02374 &         613 &        0.01638 &      50 &      0.73250 &      0.10000 &        0.63250 \\\\\n",
      "      0.02348 &         246 &        0.03396 &      50 &      0.10000 &      0.10000 &        0.00000 \\\\\n",
      "      0.00000 &         993 &        0.02471 &      24 &      0.10000 &      0.10000 &        0.00000 \\\\\n",
      "      0.57759 &          10 &        0.05068 &      22 &      0.10000 &      0.10000 &        0.00000 \\\\\n",
      "\\bottomrule\n",
      "\\end{tabular}\n",
      "\\end{table}\n",
      "\n"
     ]
    }
   ],
   "source": [
    "print(filtered_vgg_df[:3].append(filtered_vgg_df[-3:]).to_latex(index=False, caption=\"VGG Top 3 and Bottom 3\", label=\"tab:top_and_bottom_vgg\"))"
   ]
  },
  {
   "cell_type": "markdown",
   "metadata": {},
   "source": [
    "### ResNet"
   ]
  },
  {
   "cell_type": "code",
   "execution_count": 39,
   "metadata": {},
   "outputs": [],
   "source": [
    "resnet_df = pd.read_csv('../wandb_results/resnet_cifar10_wandb_export.csv')"
   ]
  },
  {
   "cell_type": "code",
   "execution_count": 41,
   "metadata": {},
   "outputs": [
    {
     "name": "stdout",
     "output_type": "stream",
     "text": [
      "\\begin{table}\n",
      "\\centering\n",
      "\\caption{ResNet Top 3 and Bottom 3}\n",
      "\\label{tab:top_and_bottom_resnet}\n",
      "\\begin{tabular}{rrrrrrr}\n",
      "\\toprule\n",
      " adam\\_epsilon &  batch\\_size &  learning\\_rate &  epochs &  pt\\_test\\_acc &  tf\\_test\\_acc &  accuracy\\_diff \\\\\n",
      "\\midrule\n",
      "      0.20390 &         382 &        0.05596 &      26 &      0.59364 &      0.09990 &        0.49374 \\\\\n",
      "      0.20259 &         466 &        0.05103 &      24 &      0.61146 &      0.12910 &        0.48236 \\\\\n",
      "      0.46381 &         502 &        0.07989 &      20 &      0.57465 &      0.10610 &        0.46855 \\\\\n",
      "      0.53622 &         904 &        0.03705 &      26 &      0.47656 &      0.47680 &        0.00024 \\\\\n",
      "      0.18580 &         388 &        0.01245 &      20 &      0.53219 &      0.53240 &        0.00021 \\\\\n",
      "      0.91122 &         904 &        0.07455 &      45 &      0.53747 &      0.53730 &        0.00017 \\\\\n",
      "\\bottomrule\n",
      "\\end{tabular}\n",
      "\\end{table}\n",
      "\n"
     ]
    }
   ],
   "source": [
    "filtered_res_df = resnet_df.filter(['adam_epsilon', 'batch_size', 'learning_rate', 'epochs', 'pt_test_acc', 'tf_test_acc', 'accuracy_diff'])\n",
    "filtered_res_df = filtered_res_df.sort_values('accuracy_diff', ascending=False)\n",
    "filtered_res_df = filtered_res_df.reset_index(drop=True)\n",
    "print(filtered_res_df[:3].append(filtered_res_df[-3:]).to_latex(index=False, caption=\"ResNet Top 3 and Bottom 3\", label=\"tab:top_and_bottom_resnet\"))"
   ]
  },
  {
   "cell_type": "code",
   "execution_count": 43,
   "metadata": {},
   "outputs": [],
   "source": [
    "dense_df = pd.read_csv('../wandb_results/densenet_cifar10_wandb_export.csv')"
   ]
  },
  {
   "cell_type": "code",
   "execution_count": 44,
   "metadata": {},
   "outputs": [
    {
     "name": "stdout",
     "output_type": "stream",
     "text": [
      "\\begin{table}\n",
      "\\centering\n",
      "\\caption{DenseNet Top 3 and Bottom 3}\n",
      "\\label{tab:top_and_bottom_densenet}\n",
      "\\begin{tabular}{rrrrrrr}\n",
      "\\toprule\n",
      " adam\\_epsilon &  batch\\_size &  learning\\_rate &  epochs &  pt\\_test\\_acc &  tf\\_test\\_acc &  accuracy\\_diff \\\\\n",
      "\\midrule\n",
      "      0.37500 &        1000 &        0.06250 &       3 &      0.56270 &      0.10580 &        0.45690 \\\\\n",
      "      0.18668 &         644 &        0.04909 &       2 &      0.53286 &      0.10650 &        0.42636 \\\\\n",
      "      0.19263 &         644 &        0.03833 &       2 &      0.53889 &      0.11850 &        0.42039 \\\\\n",
      "      0.46272 &         974 &        0.02302 &      46 &      0.61617 &      0.61570 &        0.00047 \\\\\n",
      "      0.62026 &          93 &        0.07721 &      20 &      0.72816 &      0.72860 &        0.00044 \\\\\n",
      "      0.57076 &          28 &        0.04222 &      20 &      0.75688 &      0.75710 &        0.00022 \\\\\n",
      "\\bottomrule\n",
      "\\end{tabular}\n",
      "\\end{table}\n",
      "\n"
     ]
    }
   ],
   "source": [
    "filtered_dense_df = dense_df.filter(['adam_epsilon', 'batch_size', 'learning_rate', 'epochs', 'pt_test_acc', 'tf_test_acc', 'accuracy_diff'])\n",
    "filtered_dense_df = filtered_dense_df.sort_values('accuracy_diff', ascending=False)\n",
    "filtered_dense_df = filtered_dense_df.reset_index(drop=True)\n",
    "print(filtered_dense_df[:3].append(filtered_dense_df[-3:]).to_latex(index=False, caption=\"DenseNet Top 3 and Bottom 3\", label=\"tab:top_and_bottom_densenet\"))"
   ]
  },
  {
   "cell_type": "code",
   "execution_count": null,
   "metadata": {},
   "outputs": [],
   "source": []
  }
 ],
 "metadata": {
  "kernelspec": {
   "display_name": "Python 3",
   "language": "python",
   "name": "python3"
  },
  "language_info": {
   "codemirror_mode": {
    "name": "ipython",
    "version": 3
   },
   "file_extension": ".py",
   "mimetype": "text/x-python",
   "name": "python",
   "nbconvert_exporter": "python",
   "pygments_lexer": "ipython3",
   "version": "3.8.5"
  }
 },
 "nbformat": 4,
 "nbformat_minor": 4
}
